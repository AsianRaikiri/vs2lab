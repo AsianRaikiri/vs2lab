{
 "cells": [
  {
   "cell_type": "markdown",
   "metadata": {},
   "source": [
    "# Running the phonebook client\n",
    "After importing the clientserver Class, the Client can now call the get Method to send a request to the Phonebook Server. "
   ]
  },
  {
   "cell_type": "code",
   "execution_count": 1,
   "metadata": {},
   "outputs": [
    {
     "name": "stderr",
     "output_type": "stream",
     "text": [
      "2023-10-19 14:42:39,707 - vs2lab.a1_layers.clientserver.Client - INFO - Client connected to socket <socket.socket fd=1268, family=AddressFamily.AF_INET, type=SocketKind.SOCK_STREAM, proto=0, laddr=('127.0.0.1', 53306), raddr=('127.0.0.1', 50007)>\n",
      "2023-10-19 14:42:39,715 - vs2lab.a1_layers.clientserver.Client - INFO - Getting telephone Number of Adam.\n",
      "2023-10-19 14:42:39,715 - vs2lab.a1_layers.clientserver.Client - INFO - Client down.\n"
     ]
    },
    {
     "name": "stdout",
     "output_type": "stream",
     "text": [
      "97305423\n"
     ]
    },
    {
     "data": {
      "text/plain": [
       "'97305423'"
      ]
     },
     "execution_count": 1,
     "metadata": {},
     "output_type": "execute_result"
    }
   ],
   "source": [
    "import clientserver\n",
    "\n",
    "client = clientserver.Client()\n",
    "\n",
    "client.get(\"Adam\")\n"
   ]
  },
  {
   "cell_type": "markdown",
   "metadata": {},
   "source": [
    "The Client can additionally send a getAll request to get all phonebook entries available. That will return all phone numbers and the person associated with the number."
   ]
  },
  {
   "cell_type": "code",
   "execution_count": 2,
   "metadata": {
    "scrolled": true
   },
   "outputs": [
    {
     "name": "stderr",
     "output_type": "stream",
     "text": [
      "2023-10-19 14:42:49,543 - vs2lab.a1_layers.clientserver.Client - INFO - Client connected to socket <socket.socket fd=1284, family=AddressFamily.AF_INET, type=SocketKind.SOCK_STREAM, proto=0, laddr=('127.0.0.1', 53307), raddr=('127.0.0.1', 50007)>\n",
      "2023-10-19 14:42:49,543 - vs2lab.a1_layers.clientserver.Client - INFO - Getting all available telephone number.\n",
      "2023-10-19 14:42:49,551 - vs2lab.a1_layers.clientserver.Client - INFO - Client down.\n"
     ]
    },
    {
     "name": "stdout",
     "output_type": "stream",
     "text": [
      "Adam: 97305423, Steve: 605476544, James: 075423215, Angel: 765434567\n"
     ]
    },
    {
     "data": {
      "text/plain": [
       "'Adam: 97305423, Steve: 605476544, James: 075423215, Angel: 765434567'"
      ]
     },
     "execution_count": 2,
     "metadata": {},
     "output_type": "execute_result"
    }
   ],
   "source": [
    "import clientserver # import from our script\n",
    "\n",
    "client = clientserver.Client() # Create a client instance\n",
    "\n",
    "client.getAll()"
   ]
  }
 ],
 "metadata": {
  "kernelspec": {
   "display_name": "Python 3 (ipykernel)",
   "language": "python",
   "name": "python3"
  },
  "language_info": {
   "codemirror_mode": {
    "name": "ipython",
    "version": 3
   },
   "file_extension": ".py",
   "mimetype": "text/x-python",
   "name": "python",
   "nbconvert_exporter": "python",
   "pygments_lexer": "ipython3",
   "version": "3.10.12"
  }
 },
 "nbformat": 4,
 "nbformat_minor": 2
}
