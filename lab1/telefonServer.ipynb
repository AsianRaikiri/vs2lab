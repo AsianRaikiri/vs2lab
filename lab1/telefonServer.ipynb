{
 "cells": [
  {
   "cell_type": "markdown",
   "metadata": {},
   "source": [
    "# Running the Phonebook Server with custom Database\n",
    "After importing the clientserver Module and calling the Server class, the database has to be established. \n",
    "then calling the telephoneBook Function with the database as argument, starts the actual server with listener"
   ]
  },
  {
   "cell_type": "code",
   "execution_count": null,
   "metadata": {},
   "outputs": [
    {
     "name": "stderr",
     "output_type": "stream",
     "text": [
      "2023-10-19 14:42:33,329 - vs2lab.lab1.clientserver.Server - INFO - Server bound to socket <socket.socket fd=1260, family=AddressFamily.AF_INET, type=SocketKind.SOCK_STREAM, proto=0, laddr=('127.0.0.1', 50007)>\n",
      "2023-10-19 14:42:33,337 - vs2lab.lab1.clientserver.Server - INFO - Telephone Database initialized and server online.\n",
      "2023-10-19 14:42:39,707 - vs2lab.lab1.clientserver.Server - INFO - Creating server...\n",
      "2023-10-19 14:42:39,715 - vs2lab.lab1.clientserver.Server - INFO - Received a name and send response.\n",
      "2023-10-19 14:42:49,543 - vs2lab.lab1.clientserver.Server - INFO - Creating server...\n",
      "2023-10-19 14:42:49,551 - vs2lab.lab1.clientserver.Server - INFO - Send all telephone Data to Client.\n",
      "2023-10-19 14:46:21,830 - vs2lab.lab1.clientserver.Server - INFO - Creating server...\n",
      "2023-10-19 14:46:21,830 - vs2lab.lab1.clientserver.Server - INFO - Received a name and send response.\n",
      "2023-10-19 14:46:21,839 - vs2lab.lab1.clientserver.Server - INFO - Creating server...\n",
      "2023-10-19 14:46:21,847 - vs2lab.lab1.clientserver.Server - INFO - Send all telephone Data to Client.\n"
     ]
    }
   ],
   "source": [
    "import clientserver # import from our script\n",
    "\n",
    "server = clientserver.Server() # Create a server instance\n",
    "\n",
    "telephoneDatabase = {\n",
    "    \"Adam\": \"97305423\",\n",
    "    \"Steve\": \"605476544\",\n",
    "    \"James\": \"075423215\",\n",
    "    \"Angel\": \"765434567\"\n",
    "}\n",
    "\n",
    "\n",
    "server.telephoneBook(telephoneDatabase) # start server routine in the forked process"
   ]
  }
 ],
 "metadata": {
  "kernelspec": {
   "display_name": "Python 3 (ipykernel)",
   "language": "python",
   "name": "python3"
  },
  "language_info": {
   "codemirror_mode": {
    "name": "ipython",
    "version": 3
   },
   "file_extension": ".py",
   "mimetype": "text/x-python",
   "name": "python",
   "nbconvert_exporter": "python",
   "pygments_lexer": "ipython3",
   "version": "3.10.12"
  }
 },
 "nbformat": 4,
 "nbformat_minor": 2
}
