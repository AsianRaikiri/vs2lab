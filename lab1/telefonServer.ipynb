{
 "cells": [
  {
   "cell_type": "markdown",
   "metadata": {},
   "source": [
    "# Running the Phonebook Server with custom Database\n",
    "After importing the clientserver Module and calling the Server class, the database has to be established. \n",
    "then calling the telephoneBook Function with the database as argument, starts the actual server with listener"
   ]
  },
  {
   "cell_type": "code",
   "execution_count": null,
   "metadata": {},
   "outputs": [],
   "source": [
    "import clientserver # import from our script\n",
    "\n",
    "server = clientserver.Server() # Create a server instance\n",
    "\n",
    "telephoneDatabase = {\n",
    "    \"Adam\": \"97305423\",\n",
    "    \"Steve\": \"605476544\",\n",
    "    \"James\": \"075423215\",\n",
    "    \"Angel\": \"765434567\"\n",
    "}\n",
    "\n",
    "\n",
    "server.telephoneBook(telephoneDatabase) # start server routine in the forked process"
   ]
  }
 ],
 "metadata": {
  "kernelspec": {
   "display_name": "Python 3 (ipykernel)",
   "language": "python",
   "name": "python3"
  },
  "language_info": {
   "codemirror_mode": {
    "name": "ipython",
    "version": 3
   },
   "file_extension": ".py",
   "mimetype": "text/x-python",
   "name": "python",
   "nbconvert_exporter": "python",
   "pygments_lexer": "ipython3",
   "version": "3.10.12"
  }
 },
 "nbformat": 4,
 "nbformat_minor": 2
}
